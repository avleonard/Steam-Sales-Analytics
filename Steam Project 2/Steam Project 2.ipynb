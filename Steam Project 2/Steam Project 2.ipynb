{
 "cells": [
  {
   "cell_type": "markdown",
   "id": "b77faee2",
   "metadata": {},
   "source": [
    "# Predicting Steam Game Review Scores  \n",
    "\n",
    "The goal of this project is to analyze **whether structured attributes carry predictive power when predicting game reviews.**  \n",
    "\n",
    "Some of the key questions I aim to answer are:  \n",
    "\n",
    "- 🤖 **Predictive Power:** How effectively can structured attributes predict game reviews?\n",
    "- 💡 **Interpretability:** What are the most influential features? What can they tell us about player satisfaction?  \n",
    "- 🚫 **Insight Through Failure:** What are the least influential features? What do weak correlations mean?\n",
    "- 🔍 **Human Predictability:** What does this suggest about how predictable, or unpredictable, human sentiment data truly is?    \n",
    "  \n",
    "---\n",
    "\n",
    "### 📊 Modeling & Methodology  \n",
    "\n",
    "1️⃣ **Target Definition:** Categorize review scores into classes: *High*, *Medium*, and *Low*, based on rating distributions.\n",
    "\n",
    "2️⃣ **Feature Engineering:** Transform Steam data into model ready features: log-scaled review counts, log-scaled release prices, and release (year, month, season).  \n",
    "\n",
    "3️⃣ **Model Development:** Train and evaluate a Random Forest to test predictability.  \n",
    "\n",
    "4️⃣ **Evaluation & Insights:** Use model performance to determine if structured attributes meaningfully predict review outcomes, and identify which features carry the most predictive weight.  "
   ]
  },
  {
   "cell_type": "markdown",
   "id": "235fc541",
   "metadata": {},
   "source": [
    "## Section 1: Data Preprocessing"
   ]
  },
  {
   "cell_type": "code",
   "execution_count": 55,
   "id": "8acdf0a2",
   "metadata": {},
   "outputs": [],
   "source": [
    "# Start by importing necessary libraries. \n",
    "import pandas as pd\n",
    "import matplotlib.pyplot as plt\n",
    "import numpy as np\n",
    "import seaborn as sns\n",
    "from IPython.display import display\n",
    "# scikit-learn modules\n",
    "from sklearn.model_selection import train_test_split, GridSearchCV\n",
    "from sklearn.preprocessing import OneHotEncoder, StandardScaler\n",
    "from sklearn.compose import ColumnTransformer\n",
    "from sklearn.pipeline import Pipeline\n",
    "from sklearn.ensemble import RandomForestClassifier\n",
    "from sklearn.linear_model import LogisticRegression\n",
    "from sklearn.neighbors import KNeighborsClassifier\n",
    "from sklearn.metrics import (accuracy_score, f1_score, classification_report, confusion_matrix, balanced_accuracy_score)"
   ]
  },
  {
   "cell_type": "markdown",
   "id": "2c4c017a",
   "metadata": {},
   "source": [
    "To get started, we'll import the dataset for this analysis. It can be found inside the .zip folder of this notebook, or, on kaggle.com at: https://www.kaggle.com/datasets/benjaminlundkvist/steam-sales-historical-dataset. \n",
    "\n",
    "- **DISCLAIMER**: Dataset updates weekly on Kaggle. This notebook is built using the dataset that was updated on September 29th, 2025."
   ]
  },
  {
   "cell_type": "code",
   "execution_count": 56,
   "id": "9f1e8e80",
   "metadata": {},
   "outputs": [
    {
     "name": "stdout",
     "output_type": "stream",
     "text": [
      "Columns: ['Game Name', 'Rating', '#Reviews', 'Discount%', 'Price (€)', 'Original Price (€)', 'Release Date', 'Windows', 'Linux', 'MacOS', 'Fetched At']\n",
      "Rows: 2543\n"
     ]
    }
   ],
   "source": [
    "# Load & prepare data.\n",
    "steam_sales = pd.read_csv('steam_sales_Sep28.csv')\n",
    "\n",
    "# Column names & row quantity. \n",
    "print(\"Columns:\", list(steam_sales.columns))\n",
    "print(\"Rows:\", steam_sales.shape[0])"
   ]
  },
  {
   "cell_type": "markdown",
   "id": "e886f986",
   "metadata": {},
   "source": [
    "First, we'll check for null and duplicate values, as well as the data types."
   ]
  },
  {
   "cell_type": "code",
   "execution_count": 57,
   "id": "a13e7681",
   "metadata": {},
   "outputs": [
    {
     "name": "stdout",
     "output_type": "stream",
     "text": [
      "Nulls: False\n",
      "Duplicates: True\n"
     ]
    }
   ],
   "source": [
    "# Check for null and duplicate values. \n",
    "print(\"Nulls:\", steam_sales.isnull().values.any())\n",
    "print(\"Duplicates:\", steam_sales[steam_sales['Game Name'].duplicated(keep=False)].values.any())"
   ]
  },
  {
   "cell_type": "markdown",
   "id": "a1cac668",
   "metadata": {},
   "source": [
    "Data is pulled directly from the Steam API and refreshed weekly, so the absence of null values and the presence of duplicates are both expected."
   ]
  },
  {
   "cell_type": "code",
   "execution_count": 58,
   "id": "8cb6772a",
   "metadata": {},
   "outputs": [
    {
     "name": "stdout",
     "output_type": "stream",
     "text": [
      "Game Name              object\n",
      "Rating                float64\n",
      "#Reviews               object\n",
      "Discount%             float64\n",
      "Price (€)             float64\n",
      "Original Price (€)    float64\n",
      "Release Date           object\n",
      "Windows                 int64\n",
      "Linux                   int64\n",
      "MacOS                   int64\n",
      "Fetched At             object\n"
     ]
    }
   ],
   "source": [
    "# Check data types.\n",
    "print(steam_sales.dtypes.to_string())"
   ]
  },
  {
   "cell_type": "markdown",
   "id": "8636bcd1",
   "metadata": {},
   "source": [
    "Reviews, Release Date, and Fetched At are stored as objects (strings). #Reviews will be converted to numeric, as it represents quantitative data. \n",
    "\n",
    "Release Date and Fetched At will be converted to datetime to take advantage of pandas’ time and date functionality."
   ]
  },
  {
   "cell_type": "code",
   "execution_count": 59,
   "id": "f56a31c7",
   "metadata": {},
   "outputs": [],
   "source": [
    "# Convert Reviews to numeric. \n",
    "steam_sales['#Reviews'] = pd.to_numeric(steam_sales['#Reviews'].str.replace(',', ''))\n",
    "\n",
    "# Convert Fetched At to datetime.\n",
    "steam_sales['Fetched At'] = pd.to_datetime(steam_sales['Fetched At'])\n",
    "\n",
    "# Convert Release Date to datetime.  \n",
    "date_format_1 = pd.to_datetime(steam_sales['Release Date'], errors='coerce', format = '%b %d, %Y').dropna() # Month Day, Year.\n",
    "date_format_2 = pd.to_datetime(steam_sales['Release Date'], errors='coerce', format = '%d %b, %Y').dropna() # Day Month, Year. (Only used by 1st refresh)\n",
    "steam_sales['Release Date'] = pd.concat([date_format_2, date_format_1])"
   ]
  },
  {
   "cell_type": "markdown",
   "id": "3362d096",
   "metadata": {},
   "source": [
    "Duplicate values are likely a consequence of the dataset's weekly updates, where new data is appended, rather than resetting each week. \n",
    "\n",
    "Not all games are tracked each week however, some games may have no duplicates while others might have multiple."
   ]
  },
  {
   "cell_type": "code",
   "execution_count": 60,
   "id": "d1c3b1d3",
   "metadata": {},
   "outputs": [
    {
     "name": "stdout",
     "output_type": "stream",
     "text": [
      "Nulls: False\n",
      "Duplicates: False\n"
     ]
    }
   ],
   "source": [
    "# Filter duplicates.\n",
    "steam_sales = steam_sales.sort_values('Fetched At', ascending = False)\n",
    "steam_sales = steam_sales.drop_duplicates(subset=['Game Name'], keep='first')\n",
    "steam_sales = steam_sales.reset_index(drop=True)\n",
    "\n",
    "# Check for nulls and duplicates once more.\n",
    "print(\"Nulls:\", steam_sales.isnull().values.any())\n",
    "print(\"Duplicates:\", steam_sales[steam_sales['Game Name'].duplicated(keep=False)].values.any())"
   ]
  },
  {
   "cell_type": "markdown",
   "id": "885b7d3e",
   "metadata": {},
   "source": [
    "Duplicate values gone! We did this using Fetched At to sort recent updates to the top, then, keeping only the first iteration, dropping values with identical names.\n",
    "\n",
    "Before moving on, let's preview the changes and call `.describe()` to get a sense of what we're about to work with."
   ]
  },
  {
   "cell_type": "code",
   "execution_count": 61,
   "id": "bad9b426",
   "metadata": {},
   "outputs": [
    {
     "data": {
      "text/html": [
       "<div>\n",
       "<style scoped>\n",
       "    .dataframe tbody tr th:only-of-type {\n",
       "        vertical-align: middle;\n",
       "    }\n",
       "\n",
       "    .dataframe tbody tr th {\n",
       "        vertical-align: top;\n",
       "    }\n",
       "\n",
       "    .dataframe thead th {\n",
       "        text-align: right;\n",
       "    }\n",
       "</style>\n",
       "<table border=\"1\" class=\"dataframe\">\n",
       "  <thead>\n",
       "    <tr style=\"text-align: right;\">\n",
       "      <th></th>\n",
       "      <th>Game Name</th>\n",
       "      <th>Rating</th>\n",
       "      <th>#Reviews</th>\n",
       "      <th>Discount%</th>\n",
       "      <th>Price (€)</th>\n",
       "      <th>Original Price (€)</th>\n",
       "      <th>Release Date</th>\n",
       "      <th>Windows</th>\n",
       "      <th>Linux</th>\n",
       "      <th>MacOS</th>\n",
       "      <th>Fetched At</th>\n",
       "    </tr>\n",
       "  </thead>\n",
       "  <tbody>\n",
       "    <tr>\n",
       "      <th>0</th>\n",
       "      <td>Assetto Corsa - Dream Pack 2</td>\n",
       "      <td>7.0</td>\n",
       "      <td>289.0</td>\n",
       "      <td>-70.0</td>\n",
       "      <td>2.09</td>\n",
       "      <td>6.99</td>\n",
       "      <td>2015-10-08</td>\n",
       "      <td>1</td>\n",
       "      <td>0</td>\n",
       "      <td>0</td>\n",
       "      <td>2025-09-29 12:49:00</td>\n",
       "    </tr>\n",
       "    <tr>\n",
       "      <th>1</th>\n",
       "      <td>Marvel's Spider-Man 2 - Digital Deluxe Upgrade</td>\n",
       "      <td>5.0</td>\n",
       "      <td>65.0</td>\n",
       "      <td>-20.0</td>\n",
       "      <td>55.99</td>\n",
       "      <td>69.99</td>\n",
       "      <td>2025-01-30</td>\n",
       "      <td>1</td>\n",
       "      <td>0</td>\n",
       "      <td>0</td>\n",
       "      <td>2025-09-29 12:49:00</td>\n",
       "    </tr>\n",
       "    <tr>\n",
       "      <th>2</th>\n",
       "      <td>Way of the Hunter</td>\n",
       "      <td>7.0</td>\n",
       "      <td>3936.0</td>\n",
       "      <td>-50.0</td>\n",
       "      <td>14.99</td>\n",
       "      <td>29.99</td>\n",
       "      <td>2022-08-16</td>\n",
       "      <td>1</td>\n",
       "      <td>0</td>\n",
       "      <td>0</td>\n",
       "      <td>2025-09-29 12:49:00</td>\n",
       "    </tr>\n",
       "  </tbody>\n",
       "</table>\n",
       "</div>"
      ],
      "text/plain": [
       "                                        Game Name  Rating  #Reviews  \\\n",
       "0                    Assetto Corsa - Dream Pack 2     7.0     289.0   \n",
       "1  Marvel's Spider-Man 2 - Digital Deluxe Upgrade     5.0      65.0   \n",
       "2                               Way of the Hunter     7.0    3936.0   \n",
       "\n",
       "   Discount%  Price (€)  Original Price (€) Release Date  Windows  Linux  \\\n",
       "0      -70.0       2.09                6.99   2015-10-08        1      0   \n",
       "1      -20.0      55.99               69.99   2025-01-30        1      0   \n",
       "2      -50.0      14.99               29.99   2022-08-16        1      0   \n",
       "\n",
       "   MacOS          Fetched At  \n",
       "0      0 2025-09-29 12:49:00  \n",
       "1      0 2025-09-29 12:49:00  \n",
       "2      0 2025-09-29 12:49:00  "
      ]
     },
     "metadata": {},
     "output_type": "display_data"
    },
    {
     "data": {
      "text/html": [
       "<div>\n",
       "<style scoped>\n",
       "    .dataframe tbody tr th:only-of-type {\n",
       "        vertical-align: middle;\n",
       "    }\n",
       "\n",
       "    .dataframe tbody tr th {\n",
       "        vertical-align: top;\n",
       "    }\n",
       "\n",
       "    .dataframe thead th {\n",
       "        text-align: right;\n",
       "    }\n",
       "</style>\n",
       "<table border=\"1\" class=\"dataframe\">\n",
       "  <thead>\n",
       "    <tr style=\"text-align: right;\">\n",
       "      <th></th>\n",
       "      <th>Rating</th>\n",
       "      <th>#Reviews</th>\n",
       "      <th>Discount%</th>\n",
       "      <th>Price (€)</th>\n",
       "      <th>Original Price (€)</th>\n",
       "      <th>Release Date</th>\n",
       "      <th>Windows</th>\n",
       "      <th>Linux</th>\n",
       "      <th>MacOS</th>\n",
       "      <th>Fetched At</th>\n",
       "    </tr>\n",
       "  </thead>\n",
       "  <tbody>\n",
       "    <tr>\n",
       "      <th>count</th>\n",
       "      <td>1751.00</td>\n",
       "      <td>1751.00</td>\n",
       "      <td>1751.00</td>\n",
       "      <td>1751.00</td>\n",
       "      <td>1751.00</td>\n",
       "      <td>1751</td>\n",
       "      <td>1751.00</td>\n",
       "      <td>1751.00</td>\n",
       "      <td>1751.00</td>\n",
       "      <td>1751</td>\n",
       "    </tr>\n",
       "    <tr>\n",
       "      <th>mean</th>\n",
       "      <td>6.42</td>\n",
       "      <td>15569.72</td>\n",
       "      <td>-50.76</td>\n",
       "      <td>12.31</td>\n",
       "      <td>27.03</td>\n",
       "      <td>2021-12-06 19:35:11.479154944</td>\n",
       "      <td>0.99</td>\n",
       "      <td>0.18</td>\n",
       "      <td>0.28</td>\n",
       "      <td>2025-09-09 21:40:04.900057088</td>\n",
       "    </tr>\n",
       "    <tr>\n",
       "      <th>min</th>\n",
       "      <td>3.00</td>\n",
       "      <td>10.00</td>\n",
       "      <td>-95.00</td>\n",
       "      <td>0.53</td>\n",
       "      <td>2.99</td>\n",
       "      <td>2006-11-29 00:00:00</td>\n",
       "      <td>0.00</td>\n",
       "      <td>0.00</td>\n",
       "      <td>0.00</td>\n",
       "      <td>2025-08-11 00:00:00</td>\n",
       "    </tr>\n",
       "    <tr>\n",
       "      <th>25%</th>\n",
       "      <td>5.00</td>\n",
       "      <td>837.00</td>\n",
       "      <td>-75.00</td>\n",
       "      <td>5.99</td>\n",
       "      <td>14.99</td>\n",
       "      <td>2020-01-09 00:00:00</td>\n",
       "      <td>1.00</td>\n",
       "      <td>0.00</td>\n",
       "      <td>0.00</td>\n",
       "      <td>2025-09-02 11:23:00</td>\n",
       "    </tr>\n",
       "    <tr>\n",
       "      <th>50%</th>\n",
       "      <td>7.00</td>\n",
       "      <td>2623.00</td>\n",
       "      <td>-50.00</td>\n",
       "      <td>9.99</td>\n",
       "      <td>24.50</td>\n",
       "      <td>2023-03-07 00:00:00</td>\n",
       "      <td>1.00</td>\n",
       "      <td>0.00</td>\n",
       "      <td>0.00</td>\n",
       "      <td>2025-09-15 12:47:00</td>\n",
       "    </tr>\n",
       "    <tr>\n",
       "      <th>75%</th>\n",
       "      <td>7.00</td>\n",
       "      <td>11354.00</td>\n",
       "      <td>-30.00</td>\n",
       "      <td>15.99</td>\n",
       "      <td>34.99</td>\n",
       "      <td>2024-10-31 00:00:00</td>\n",
       "      <td>1.00</td>\n",
       "      <td>0.00</td>\n",
       "      <td>1.00</td>\n",
       "      <td>2025-09-22 12:47:00</td>\n",
       "    </tr>\n",
       "    <tr>\n",
       "      <th>max</th>\n",
       "      <td>8.00</td>\n",
       "      <td>1038433.00</td>\n",
       "      <td>-10.00</td>\n",
       "      <td>64.99</td>\n",
       "      <td>99.99</td>\n",
       "      <td>2025-09-28 00:00:00</td>\n",
       "      <td>1.00</td>\n",
       "      <td>1.00</td>\n",
       "      <td>1.00</td>\n",
       "      <td>2025-09-29 12:49:00</td>\n",
       "    </tr>\n",
       "    <tr>\n",
       "      <th>std</th>\n",
       "      <td>1.28</td>\n",
       "      <td>52329.56</td>\n",
       "      <td>23.53</td>\n",
       "      <td>8.80</td>\n",
       "      <td>15.76</td>\n",
       "      <td>NaN</td>\n",
       "      <td>0.07</td>\n",
       "      <td>0.39</td>\n",
       "      <td>0.45</td>\n",
       "      <td>NaN</td>\n",
       "    </tr>\n",
       "  </tbody>\n",
       "</table>\n",
       "</div>"
      ],
      "text/plain": [
       "        Rating    #Reviews  Discount%  Price (€)  Original Price (€)  \\\n",
       "count  1751.00     1751.00    1751.00    1751.00             1751.00   \n",
       "mean      6.42    15569.72     -50.76      12.31               27.03   \n",
       "min       3.00       10.00     -95.00       0.53                2.99   \n",
       "25%       5.00      837.00     -75.00       5.99               14.99   \n",
       "50%       7.00     2623.00     -50.00       9.99               24.50   \n",
       "75%       7.00    11354.00     -30.00      15.99               34.99   \n",
       "max       8.00  1038433.00     -10.00      64.99               99.99   \n",
       "std       1.28    52329.56      23.53       8.80               15.76   \n",
       "\n",
       "                        Release Date  Windows    Linux    MacOS  \\\n",
       "count                           1751  1751.00  1751.00  1751.00   \n",
       "mean   2021-12-06 19:35:11.479154944     0.99     0.18     0.28   \n",
       "min              2006-11-29 00:00:00     0.00     0.00     0.00   \n",
       "25%              2020-01-09 00:00:00     1.00     0.00     0.00   \n",
       "50%              2023-03-07 00:00:00     1.00     0.00     0.00   \n",
       "75%              2024-10-31 00:00:00     1.00     0.00     1.00   \n",
       "max              2025-09-28 00:00:00     1.00     1.00     1.00   \n",
       "std                              NaN     0.07     0.39     0.45   \n",
       "\n",
       "                          Fetched At  \n",
       "count                           1751  \n",
       "mean   2025-09-09 21:40:04.900057088  \n",
       "min              2025-08-11 00:00:00  \n",
       "25%              2025-09-02 11:23:00  \n",
       "50%              2025-09-15 12:47:00  \n",
       "75%              2025-09-22 12:47:00  \n",
       "max              2025-09-29 12:49:00  \n",
       "std                              NaN  "
      ]
     },
     "metadata": {},
     "output_type": "display_data"
    }
   ],
   "source": [
    "# Preview and description of cleaned dataset. \n",
    "display(steam_sales.head(3))\n",
    "display(steam_sales.describe().round(2))"
   ]
  },
  {
   "cell_type": "markdown",
   "id": "01380a5f",
   "metadata": {},
   "source": [
    "# Section 2: Creating Analysis Variables\n",
    "\n",
    "Now that our data is clean, we can define the variables we'll be modeling on. These will go into a new dataframe exclusively for analysis variables. \n"
   ]
  },
  {
   "cell_type": "code",
   "execution_count": 62,
   "id": "59314576",
   "metadata": {},
   "outputs": [],
   "source": [
    "# Creating analysis variables dataframe.\n",
    "analysis_df = pd.DataFrame()"
   ]
  },
  {
   "cell_type": "markdown",
   "id": "47440da8",
   "metadata": {},
   "source": [
    "The data description suggests a potential skew, so we'll start by examining the Original Price (€) and #Reviews features to check whether they require transformation."
   ]
  },
  {
   "cell_type": "code",
   "execution_count": 63,
   "id": "7c7cb8f9",
   "metadata": {},
   "outputs": [
    {
     "data": {
      "image/png": "[encoded data removed]",
      "text/plain": [
       "<Figure size 600x400 with 1 Axes>"
      ]
     },
     "metadata": {},
     "output_type": "display_data"
    }
   ],
   "source": [
    "# Histogram for Original Price.\n",
    "fig, ax = plt.subplots(figsize=(6, 4))\n",
    "ax.hist(steam_sales['Original Price (€)'], bins=50, color='salmon', edgecolor='black')\n",
    "ax.set_xlabel('Original Price (€)')\n",
    "ax.set_ylabel('Frequency')\n",
    "ax.set_title('Distribution of Original Price')\n",
    "plt.savefig('output/hist_original_price.png', dpi=150, bbox_inches='tight')\n",
    "plt.show()"
   ]
  },
  {
   "cell_type": "markdown",
   "id": "bf91a64c",
   "metadata": {},
   "source": [
    "Game prices cluster towards €20, with the highest at €100. The distribution isn't severely skewed, but it could hurt the model's results."
   ]
  },
  {
   "cell_type": "code",
   "execution_count": 64,
   "id": "27c5964a",
   "metadata": {},
   "outputs": [
    {
     "data": {
      "image/png": "[encoded data removed]",
      "text/plain": [
       "<Figure size 600x400 with 1 Axes>"
      ]
     },
     "metadata": {},
     "output_type": "display_data"
    }
   ],
   "source": [
    "# Histogram for #Reviews.\n",
    "fig, ax = plt.subplots(figsize=(6, 4))\n",
    "ax.hist(steam_sales['#Reviews'], bins=50, color='skyblue', edgecolor='black')\n",
    "ax.set_xlabel('Number of Reviews (in millions)')\n",
    "ax.set_ylabel('Frequency')\n",
    "ax.set_title('Distribution of Reviews')\n",
    "plt.savefig('output/hist_reviews.png', dpi=150, bbox_inches='tight')\n",
    "plt.show()"
   ]
  },
  {
   "cell_type": "markdown",
   "id": "c835def9",
   "metadata": {},
   "source": [
    "Reviews, however, has a severe skew. With a max value at over a million and most games not even approaching 100,000, this needs to be transformed. \n",
    "\n",
    "To ensure values aren't ignored while others get overvalued, both features will be using log-transformed data. "
   ]
  },
  {
   "cell_type": "code",
   "execution_count": 65,
   "id": "6189c644",
   "metadata": {},
   "outputs": [],
   "source": [
    "# Log-transformed #Reviews.\n",
    "analysis_df['Log Reviews'] = np.log1p(steam_sales['#Reviews'])\n",
    "\n",
    "# Log-transformed Original Price.\n",
    "analysis_df['Log Price'] = np.log1p(steam_sales['Original Price (€)'])"
   ]
  },
  {
   "cell_type": "markdown",
   "id": "4b82ad17",
   "metadata": {},
   "source": [
    "From Release Date, we'll be using Year for annual trends, and Month to analyze the impact of release timing.\n",
    "\n",
    "We'll also use Discount% and operating system support, flipping Discounts from negative to positive, and adding OS Support as is."
   ]
  },
  {
   "cell_type": "code",
   "execution_count": 66,
   "id": "6df710bc",
   "metadata": {},
   "outputs": [],
   "source": [
    "# Year & Month as features.\n",
    "analysis_df['Year'] = steam_sales['Release Date'].dt.year\n",
    "analysis_df['Month'] = steam_sales['Release Date'].dt.month\n",
    "\n",
    "# Positive Discount% values.\n",
    "analysis_df['Discount'] = steam_sales['Discount%'].abs()\n",
    "\n",
    "# Add OS Support columns.\n",
    "analysis_df['Windows'] = steam_sales['Windows']\n",
    "analysis_df['Linux'] = steam_sales['Linux']\n",
    "analysis_df['MacOS'] = steam_sales['MacOS']\n",
    "analysis_df['OS_Count'] = analysis_df[['Windows','Linux','MacOS']].sum(axis=1)"
   ]
  },
  {
   "cell_type": "markdown",
   "id": "3a1b051c",
   "metadata": {},
   "source": [
    "To use ratings as a target variable, the scale needs clarification. Steam displays reviews as 9 different text categories, while the data represents them numerically, from 3.0 to 8.0.\n",
    "\n",
    "By cross-referencing several titles with their Steam store pages, the following mapping emerges:\n",
    "\n",
    "- 3.0: *Mostly Negative*\n",
    "- 4.0: *Mixed*\n",
    "- 5.0: *Mostly Positive*\n",
    "- 6.0: *Positive*\n",
    "- 7.0: *Very Positive*\n",
    "- 8.0: *Overwhelmingly Positive*\n",
    "\n",
    "Extremely low ratings, (below 3.0) are absent in the data. Likely the result of a filter, games *this* bad often carry extreme quality issues or customer deception.\n",
    "\n",
    "For our target variable, scores are grouped into three classes:\n",
    "- *Low* (3.0–4.0), *Medium* (5.0–6.0), and *High* (7.0–8.0)."
   ]
  },
  {
   "cell_type": "code",
   "execution_count": 67,
   "id": "778b5068",
   "metadata": {},
   "outputs": [
    {
     "data": {
      "text/html": [
       "<div>\n",
       "<style scoped>\n",
       "    .dataframe tbody tr th:only-of-type {\n",
       "        vertical-align: middle;\n",
       "    }\n",
       "\n",
       "    .dataframe tbody tr th {\n",
       "        vertical-align: top;\n",
       "    }\n",
       "\n",
       "    .dataframe thead th {\n",
       "        text-align: right;\n",
       "    }\n",
       "</style>\n",
       "<table border=\"1\" class=\"dataframe\">\n",
       "  <thead>\n",
       "    <tr style=\"text-align: right;\">\n",
       "      <th></th>\n",
       "      <th>Log Reviews</th>\n",
       "      <th>Log Price</th>\n",
       "      <th>Year</th>\n",
       "      <th>Month</th>\n",
       "      <th>Discount</th>\n",
       "      <th>Windows</th>\n",
       "      <th>Linux</th>\n",
       "      <th>MacOS</th>\n",
       "      <th>OS_Count</th>\n",
       "      <th>Review_Category</th>\n",
       "    </tr>\n",
       "  </thead>\n",
       "  <tbody>\n",
       "    <tr>\n",
       "      <th>0</th>\n",
       "      <td>5.669881</td>\n",
       "      <td>2.078191</td>\n",
       "      <td>2015</td>\n",
       "      <td>10</td>\n",
       "      <td>70.0</td>\n",
       "      <td>1</td>\n",
       "      <td>0</td>\n",
       "      <td>0</td>\n",
       "      <td>1</td>\n",
       "      <td>High</td>\n",
       "    </tr>\n",
       "    <tr>\n",
       "      <th>1</th>\n",
       "      <td>4.189655</td>\n",
       "      <td>4.262539</td>\n",
       "      <td>2025</td>\n",
       "      <td>1</td>\n",
       "      <td>20.0</td>\n",
       "      <td>1</td>\n",
       "      <td>0</td>\n",
       "      <td>0</td>\n",
       "      <td>1</td>\n",
       "      <td>Medium</td>\n",
       "    </tr>\n",
       "    <tr>\n",
       "      <th>2</th>\n",
       "      <td>8.278174</td>\n",
       "      <td>3.433665</td>\n",
       "      <td>2022</td>\n",
       "      <td>8</td>\n",
       "      <td>50.0</td>\n",
       "      <td>1</td>\n",
       "      <td>0</td>\n",
       "      <td>0</td>\n",
       "      <td>1</td>\n",
       "      <td>High</td>\n",
       "    </tr>\n",
       "    <tr>\n",
       "      <th>3</th>\n",
       "      <td>7.490529</td>\n",
       "      <td>3.931630</td>\n",
       "      <td>2023</td>\n",
       "      <td>11</td>\n",
       "      <td>50.0</td>\n",
       "      <td>1</td>\n",
       "      <td>0</td>\n",
       "      <td>0</td>\n",
       "      <td>1</td>\n",
       "      <td>High</td>\n",
       "    </tr>\n",
       "    <tr>\n",
       "      <th>4</th>\n",
       "      <td>9.146015</td>\n",
       "      <td>3.257712</td>\n",
       "      <td>2023</td>\n",
       "      <td>11</td>\n",
       "      <td>80.0</td>\n",
       "      <td>1</td>\n",
       "      <td>0</td>\n",
       "      <td>0</td>\n",
       "      <td>1</td>\n",
       "      <td>Medium</td>\n",
       "    </tr>\n",
       "  </tbody>\n",
       "</table>\n",
       "</div>"
      ],
      "text/plain": [
       "   Log Reviews  Log Price  Year  Month  Discount  Windows  Linux  MacOS  \\\n",
       "0     5.669881   2.078191  2015     10      70.0        1      0      0   \n",
       "1     4.189655   4.262539  2025      1      20.0        1      0      0   \n",
       "2     8.278174   3.433665  2022      8      50.0        1      0      0   \n",
       "3     7.490529   3.931630  2023     11      50.0        1      0      0   \n",
       "4     9.146015   3.257712  2023     11      80.0        1      0      0   \n",
       "\n",
       "   OS_Count Review_Category  \n",
       "0         1            High  \n",
       "1         1          Medium  \n",
       "2         1            High  \n",
       "3         1            High  \n",
       "4         1          Medium  "
      ]
     },
     "execution_count": 67,
     "metadata": {},
     "output_type": "execute_result"
    }
   ],
   "source": [
    "# Create target classes: *Low*, *Medium*, *High*. \n",
    "analysis_df['Review_Category'] = pd.cut(steam_sales['Rating'], bins=[2.5, 4.5, 6.5, 8.5], labels=['Low', 'Medium', 'High'])\n",
    "\n",
    "# Verify analysis variables dataframe. \n",
    "analysis_df.head()"
   ]
  },
  {
   "cell_type": "markdown",
   "id": "8e20a1c7",
   "metadata": {},
   "source": [
    "Dataframe looks ready! Before continuing, we'll verify class distribution since exceptionally poor ratings, which make up a large number of releases, are absent. \n",
    "\n"
   ]
  },
  {
   "cell_type": "code",
   "execution_count": 68,
   "id": "cb2de0d7",
   "metadata": {},
   "outputs": [
    {
     "data": {
      "image/png": "[encoded data removed]",
      "text/plain": [
       "<Figure size 640x480 with 1 Axes>"
      ]
     },
     "metadata": {},
     "output_type": "display_data"
    },
    {
     "name": "stdout",
     "output_type": "stream",
     "text": [
      "Class distribution (%):\n",
      "Review_Category\n",
      "High      69.85\n",
      "Medium    17.99\n",
      "Low       12.16\n"
     ]
    }
   ],
   "source": [
    "# Visualize class distribution.\n",
    "class_counts = analysis_df['Review_Category'].value_counts().sort_index()\n",
    "bars = plt.bar(class_counts.index, class_counts.values, color='skyblue', edgecolor='black')\n",
    "plt.bar_label(bars)\n",
    "plt.savefig('output/class_distribution.png', dpi=150, bbox_inches='tight')\n",
    "plt.show()\n",
    "\n",
    "# Percent of data with *High* reviews. \n",
    "print(\"Class distribution (%):\")\n",
    "print((analysis_df['Review_Category'].value_counts(normalize=True) * 100).round(2).to_string())"
   ]
  },
  {
   "cell_type": "markdown",
   "id": "090f6f1b",
   "metadata": {},
   "source": [
    "This carries a glaring class imbalance, with almost 70% of data belonging to 1 of 3 classes. \n",
    "\n",
    "Moving forward, we'll create and deploy training sets to evaluate balanced data and unbalanced as a benchmark."
   ]
  },
  {
   "cell_type": "code",
   "execution_count": 69,
   "id": "145f23d3",
   "metadata": {},
   "outputs": [],
   "source": [
    "# Separate features and target.\n",
    "X = analysis_df.drop(columns=[\"Review_Category\"])\n",
    "y = analysis_df[\"Review_Category\"]\n",
    "\n",
    "# Split into train and test sets.\n",
    "split_amount = 0.25\n",
    "X_train, X_test, y_train, y_test = train_test_split(X, y, test_size=split_amount, random_state=42, stratify=y)"
   ]
  },
  {
   "cell_type": "markdown",
   "id": "3c6f30d0",
   "metadata": {},
   "source": [
    "We'll balance our data by resampling each class with SMOTE to have the same number of values. \n",
    "\n",
    "It's important to strike a fair balance between undersampling and oversampling. *Low* and *Medium* need greater representation, but we don't want to squash our *High* data."
   ]
  },
  {
   "cell_type": "code",
   "execution_count": 70,
   "id": "11cd0ca2",
   "metadata": {},
   "outputs": [],
   "source": [
    "# Start by importing SMOTE\n",
    "from imblearn.over_sampling import SMOTE\n",
    "from sklearn.utils import resample\n",
    "\n",
    "# Combine X_train and y_train.\n",
    "train_df = pd.concat([X_train, y_train], axis=1)\n",
    "\n",
    "# Split into class subsets.\n",
    "high_df = train_df[train_df[\"Review_Category\"] == \"High\"]\n",
    "med_df  = train_df[train_df[\"Review_Category\"] == \"Medium\"]\n",
    "low_df  = train_df[train_df[\"Review_Category\"] == \"Low\"]"
   ]
  },
  {
   "cell_type": "code",
   "execution_count": 71,
   "id": "f59b4778",
   "metadata": {},
   "outputs": [],
   "source": [
    "# Downsample *High* class to 900.\n",
    "high_resample = resample(high_df, replace=False, n_samples=900, random_state=42)\n",
    "\n",
    "# Recombine with Medium and Low.\n",
    "train_balanced = pd.concat([high_resample, med_df, low_df])\n",
    "\n",
    "# Separate back into X and y.\n",
    "X_bal = train_balanced.drop(columns=[\"Review_Category\"])\n",
    "y_bal = train_balanced[\"Review_Category\"]\n",
    "\n",
    "# Oversample *Low* & *Medium* classes. \n",
    "smote = SMOTE(random_state=42)\n",
    "X_train_bal, y_train_bal = smote.fit_resample(X_bal, y_bal)"
   ]
  },
  {
   "cell_type": "code",
   "execution_count": 72,
   "id": "6cf5449d",
   "metadata": {},
   "outputs": [
    {
     "name": "stdout",
     "output_type": "stream",
     "text": [
      "Review_Category\n",
      "Low       900\n",
      "Medium    900\n",
      "High      900\n"
     ]
    }
   ],
   "source": [
    "# Verify balanced distribution.\n",
    "print(y_train_bal.value_counts().to_string())"
   ]
  },
  {
   "cell_type": "markdown",
   "id": "a74ab462",
   "metadata": {},
   "source": [
    "Classes have been resampled to contain the same number of values (900).\n",
    "\n",
    "- The *High* class was randomly reduced to 900 samples to prevent it from dominating the model.\n",
    "- The *Medium* and *Low* classes were oversampled to 900 each using SMOTE.\n",
    "\n",
    "We're using SMOTE, as it preserves the integrity of the data by generating new, realistic samples based on learned patterns. While imperfect, we need lots of synthetic data, and having a significant amount of duplicate data could have major consequences. \n"
   ]
  },
  {
   "cell_type": "markdown",
   "id": "09b256f6",
   "metadata": {},
   "source": [
    "# Section 3: Creating Our Model"
   ]
  },
  {
   "cell_type": "markdown",
   "id": "620fddb2",
   "metadata": {},
   "source": [
    "##### **Random Forest Classifier**\n",
    "\n",
    "- Captures non-linear relationships and handles both continuous and categorical features with minimal preprocessing.\n",
    "- Reduces overfitting and remains stable even with noisy or synthetic (SMOTE) data. \n",
    "\n",
    "We'll test two versions: one with unbalanced data and weighted classes, and another with balanced data."
   ]
  },
  {
   "cell_type": "code",
   "execution_count": 73,
   "id": "f81d6a5e",
   "metadata": {},
   "outputs": [
    {
     "name": "stdout",
     "output_type": "stream",
     "text": [
      "\n",
      "Unbalanced Classification Report:\n",
      "-----------------------------------------------------\n",
      "              precision    recall  f1-score   support\n",
      "\n",
      "        High       0.76      0.92      0.83       306\n",
      "         Low       0.35      0.21      0.26        53\n",
      "      Medium       0.46      0.20      0.28        79\n",
      "\n",
      "    accuracy                           0.70       438\n",
      "   macro avg       0.52      0.44      0.46       438\n",
      "weighted avg       0.65      0.70      0.66       438\n",
      "\n",
      "-----------------------------------------------------\n",
      "\n",
      "Balanced Classification Report:\n",
      "-----------------------------------------------------\n",
      "              precision    recall  f1-score   support\n",
      "\n",
      "        High       0.79      0.67      0.73       306\n",
      "         Low       0.22      0.36      0.27        53\n",
      "      Medium       0.26      0.30      0.28        79\n",
      "\n",
      "    accuracy                           0.57       438\n",
      "   macro avg       0.42      0.45      0.43       438\n",
      "weighted avg       0.63      0.57      0.59       438\n",
      "\n",
      "-----------------------------------------------------\n"
     ]
    }
   ],
   "source": [
    "# Train Random Forest on unbalanced data, & weighted classes.\n",
    "rf_unbalanced = RandomForestClassifier(random_state=42, class_weight='balanced')\n",
    "rf_unbalanced.fit(X_train, y_train)\n",
    "\n",
    "# Train Random Forest on balanced data.\n",
    "rf_balanced = RandomForestClassifier(random_state=42)\n",
    "rf_balanced.fit(X_train_bal, y_train_bal)\n",
    "\n",
    "# Unbalanced Accuracy & Classification Report.\n",
    "y_pred = rf_unbalanced.predict(X_test)\n",
    "print(\"\\nUnbalanced Classification Report:\")\n",
    "print(\"-----------------------------------------------------\")\n",
    "print(classification_report(y_test, y_pred))\n",
    "print(\"-----------------------------------------------------\")\n",
    "\n",
    "# Balanced Accuracy & Classification Report.\n",
    "y_pred_bal = rf_balanced.predict(X_test)\n",
    "print(\"\\nBalanced Classification Report:\")\n",
    "print(\"-----------------------------------------------------\")\n",
    "print(classification_report(y_test, y_pred_bal))\n",
    "print(\"-----------------------------------------------------\")"
   ]
  },
  {
   "cell_type": "markdown",
   "id": "eb774fe9",
   "metadata": {},
   "source": [
    "From an initial analysis using classification reports: balancing the data noticeably decreased accuracy, but moderately improved *Low* & *Medium* performance. \n",
    "\n",
    "For further clarity on how the models differ, we'll create a confusion matrix heatmap for both."
   ]
  },
  {
   "cell_type": "code",
   "execution_count": 74,
   "id": "cbcdaae5",
   "metadata": {},
   "outputs": [
    {
     "data": {
      "image/png": "[encoded data removed]",
      "text/plain": [
       "<Figure size 1400x600 with 4 Axes>"
      ]
     },
     "metadata": {},
     "output_type": "display_data"
    }
   ],
   "source": [
    "# Create subplots for side by side comparison.\n",
    "fig, axes = plt.subplots(1, 2, figsize=(14, 6))\n",
    "\n",
    "# Unbalanced model confusion matrix.\n",
    "cm_unbalanced = confusion_matrix(y_test, y_pred)\n",
    "sns.heatmap(cm_unbalanced, annot=True, fmt='d', cmap='Blues', xticklabels=['High', 'Low', 'Medium'], yticklabels=['High', 'Low', 'Medium'], ax=axes[0])\n",
    "axes[0].set_title('Confusion Matrix - Unbalanced Model')\n",
    "axes[0].set_xlabel('Predicted')\n",
    "axes[0].set_ylabel('Actual')\n",
    "\n",
    "# Balanced model confusion matrix.\n",
    "cm_balanced = confusion_matrix(y_test, y_pred_bal)\n",
    "sns.heatmap(cm_balanced, annot=True, fmt='d', cmap='Greens', xticklabels=['High', 'Low', 'Medium'], yticklabels=['High', 'Low', 'Medium'], ax=axes[1])\n",
    "axes[1].set_title('Confusion Matrix - Balanced Model')\n",
    "axes[1].set_xlabel('Predicted')\n",
    "axes[1].set_ylabel('Actual')\n",
    "\n",
    "plt.savefig('output/confusion_matrices.png', dpi=150, bbox_inches='tight')\n",
    "plt.show()"
   ]
  },
  {
   "cell_type": "markdown",
   "id": "1291b739",
   "metadata": {},
   "source": [
    "The unbalanced model heavily favors the *High* class, with almost no color in or recognition of *Low* or *Medium* tiles.\n",
    "\n",
    "The balanced model still greatly favors *High*, but predictions are more evenly distributed, improving minority-class performance at the cost of accuracy. "
   ]
  },
  {
   "cell_type": "markdown",
   "id": "0d69fa74",
   "metadata": {},
   "source": [
    "##### **Random Forest Interpretation**\n",
    "\n",
    "Unbalanced Model: (higher overall accuracy, biased to majority)\n",
    "- Accuracy 0.72, driven by very high recall on *High* (0.96).\n",
    "- Minority classes suffer: *Low* recall 0.17, *Medium* recall 0.16.\n",
    "- Macro F1 = 0.44, showing poor average per-class performance.\n",
    "\n",
    "Balanced Model: (fairer across classes, lower accuracy)\n",
    "- Accuracy drops to 0.60 as the model no longer over focuses on *High*.\n",
    "- Minority class recall improves: *Low* 0.40, *Medium* 0.34.\n",
    "- Macro F1 = 0.46 and macro recall = 0.48, showing more equitable performance.\n",
    "\n",
    "Trade-offs:\n",
    "- Unbalanced: higher overall accuracy, weak minority detection, best for maximizing accuracy on the majority class.\n",
    "- Balanced: stronger class balance, lower accuracy, best if the goal involves the minority classes."
   ]
  },
  {
   "cell_type": "markdown",
   "id": "b4e871fa",
   "metadata": {},
   "source": [
    "# Section 4: Feature Importance\n",
    "To further interpret the results, and understand how our model is being built, we'll take a look at what features are actually making an impact.  "
   ]
  },
  {
   "cell_type": "code",
   "execution_count": 75,
   "id": "c5dbc4d9",
   "metadata": {},
   "outputs": [],
   "source": [
    "# Feature importances for visualization and comparison.\n",
    "rf_unbalanced_fi = pd.Series(rf_unbalanced.feature_importances_, index=X_train.columns).sort_values(ascending=False)\n",
    "rf_balanced_fi = pd.Series(rf_balanced.feature_importances_, index=X_train_bal.columns).sort_values(ascending=False)"
   ]
  },
  {
   "cell_type": "code",
   "execution_count": 76,
   "id": "8a43705e",
   "metadata": {},
   "outputs": [
    {
     "data": {
      "image/png": "[encoded data removed]",
      "text/plain": [
       "<Figure size 1000x600 with 1 Axes>"
      ]
     },
     "metadata": {},
     "output_type": "display_data"
    }
   ],
   "source": [
    "# Visualising Unbalanced Feature Importance.\n",
    "plt.figure(figsize=(10, 6))\n",
    "bars = plt.barh(rf_unbalanced_fi.sort_values(ascending=True).index, rf_unbalanced_fi.sort_values(ascending=True).values, color=\"steelblue\")\n",
    "\n",
    "# Add value annotations to bars.\n",
    "plt.bar_label(bars, fmt='%.3f', fontsize=9)\n",
    "\n",
    "plt.title(\"Feature Importance - Unbalanced Model\")\n",
    "plt.xlabel(\"Importance\")\n",
    "\n",
    "plt.savefig('output/barh_feature_importance_unbalanced.png', dpi=150)\n",
    "plt.show()"
   ]
  },
  {
   "cell_type": "markdown",
   "id": "365d8b2e",
   "metadata": {},
   "source": [
    "The unbalanced model heavily relies on popularity (Log Reviews). Log Price, Discount, Month, and Year, are all moderately impactful, but without reviews, predictive power would be minimal. "
   ]
  },
  {
   "cell_type": "code",
   "execution_count": 77,
   "id": "325ca2d6",
   "metadata": {},
   "outputs": [
    {
     "data": {
      "image/png": "[encoded data removed]",
      "text/plain": [
       "<Figure size 1000x600 with 1 Axes>"
      ]
     },
     "metadata": {},
     "output_type": "display_data"
    }
   ],
   "source": [
    "# Visualising Balanced Feature Importance.\n",
    "plt.figure(figsize=(10, 6))\n",
    "bars = plt.barh(rf_balanced_fi.sort_values(ascending=True).index, rf_balanced_fi.sort_values(ascending=True).values, color=\"seagreen\")\n",
    "\n",
    "# Add value annotations to bars.\n",
    "plt.bar_label(bars, fmt='%.3f', fontsize=9)\n",
    "\n",
    "plt.title(\"Feature Importance - Balanced Model\")\n",
    "plt.xlabel(\"Importance\")\n",
    "\n",
    "plt.savefig('output/barh_feature_importance_balanced.png', dpi=150, bbox_inches='tight')\n",
    "plt.show()"
   ]
  },
  {
   "cell_type": "markdown",
   "id": "f6bbc814",
   "metadata": {},
   "source": [
    "With the balanced model, reliance on Log Reviews is reduced, and feature importance is distributed a little more evenly. The distribution overall looks much more uniform and usable than unbalanced. "
   ]
  },
  {
   "cell_type": "code",
   "execution_count": 78,
   "id": "7436784e",
   "metadata": {},
   "outputs": [],
   "source": [
    "# Create feature importance DataFrame.\n",
    "unbal_series = pd.Series(rf_unbalanced.feature_importances_, index=X_train.columns, name=\"Unbalanced\")\n",
    "bal_series = pd.Series(rf_balanced.feature_importances_, index=X_train_bal.columns, name=\"Balanced\")\n",
    "all_feats = unbal_series.index.union(bal_series.index)\n",
    "fi_df = pd.concat([unbal_series.reindex(all_feats), bal_series.reindex(all_feats)], axis=1)\n",
    "fi_df[\"Difference\"] = fi_df[\"Balanced\"] - fi_df[\"Unbalanced\"] # Adding difference column. "
   ]
  },
  {
   "cell_type": "code",
   "execution_count": 79,
   "id": "14ac1fe3",
   "metadata": {},
   "outputs": [
    {
     "name": "stdout",
     "output_type": "stream",
     "text": [
      "---------- Feature Importance Data ---------------\n",
      " \n",
      "             Unbalanced  Balanced  Difference\n",
      "Log Reviews    0.321631  0.280782   -0.040849\n",
      "Log Price      0.193987  0.219558    0.025572\n",
      "Year           0.128211  0.126009   -0.002203\n",
      "Month          0.143372  0.133076   -0.010296\n",
      "Discount       0.156503  0.176998    0.020495\n",
      "Windows        0.001286  0.001881    0.000596\n",
      "Linux          0.012923  0.012132   -0.000790\n",
      "MacOS          0.017058  0.026008    0.008950\n",
      "OS_Count       0.025030  0.023556   -0.001474\n",
      "--------------------------------------------------\n"
     ]
    }
   ],
   "source": [
    "# Print comprehensive dataframe. \n",
    "print(\"---------- Feature Importance Data ---------------\\n \")\n",
    "print(fi_df)\n",
    "print(\"--------------------------------------------------\")"
   ]
  },
  {
   "cell_type": "markdown",
   "id": "bd13e5b5",
   "metadata": {},
   "source": [
    "Feature Importance:\n",
    "- Log Reviews is the strongest predictor, but its influence drops after balancing.\n",
    "- Log Price and Discount gain importance post-balancing, suggesting price/discount are more impactful once the class bias is reduced.\n",
    "- Month & Year are moderately impactful, with small decreases indicating modest seasonality/temporal effects.\n",
    "- OS features are minimally impactful overall; MacOS slightly ticks up, but remains minor. Windows, Linux, and OS_Support_Count are negligible.\n",
    "\n",
    "Insights & Takeaways:\n",
    "- With unbalanced data, the model leans heavily on engagement/popularity (Log Reviews). After balancing, it spreads importance toward pricing and discounting, implying these factors better differentiate Medium/Low vs High when class bias is controlled.\n",
    "- Many predictors here are pleasantly surprising. While OS support proved nearly redundant, I anticipated predictive power would come almost exclusively from Log Reviews and Discount."
   ]
  },
  {
   "cell_type": "markdown",
   "id": "a948276e",
   "metadata": {},
   "source": [
    "# Section 5: Additional Models\n",
    "\n",
    "Before concluding, we’ll briefly run a few alternative classifiers. It’s important to verify that Random Forest isn’t the only model producing certain results. The goal isn’t to fully tune or optimize these models, but to ensure our findings aren’t unique to one algorithm, and that we chose the right model. "
   ]
  },
  {
   "cell_type": "markdown",
   "id": "2aab54cc",
   "metadata": {},
   "source": [
    "##### **Logistic Regression**"
   ]
  },
  {
   "cell_type": "code",
   "execution_count": 80,
   "id": "84d7f98a",
   "metadata": {},
   "outputs": [
    {
     "name": "stdout",
     "output_type": "stream",
     "text": [
      "\n",
      "LogReg Classification Report:\n",
      "-----------------------------------------------------\n",
      "              precision    recall  f1-score   support\n",
      "\n",
      "        High       0.88      0.52      0.65       306\n",
      "         Low       0.23      0.45      0.31        53\n",
      "      Medium       0.22      0.43      0.29        79\n",
      "\n",
      "    accuracy                           0.50       438\n",
      "   macro avg       0.45      0.47      0.42       438\n",
      "weighted avg       0.68      0.50      0.55       438\n",
      "\n",
      "-----------------------------------------------------\n"
     ]
    }
   ],
   "source": [
    "# Logistic Regression.\n",
    "log_reg = LogisticRegression(max_iter=100000, class_weight='balanced', random_state=42) \n",
    "log_reg.fit(X_train, y_train)\n",
    "y_pred_log = log_reg.predict(X_test)\n",
    "\n",
    "print(\"\\nLogReg Classification Report:\")\n",
    "print(\"-----------------------------------------------------\")\n",
    "print(classification_report(y_test, y_pred_log))\n",
    "print(\"-----------------------------------------------------\")"
   ]
  },
  {
   "cell_type": "markdown",
   "id": "bcc9ce36",
   "metadata": {},
   "source": [
    "- Performs noticeably worse than Random Forest. While it achieves high precision on the *High* class, recall is poor, accuracy is poor, and performance on the minority classes remained weak. \n",
    "- Overall accuracy and macro F1 show the model struggled to capture the complexity of the data compared to a Random Forest.\n",
    "- Raised a convergence warning at 1000 iterations. For a fairer comparison, increased the iteration limit to 100000. While not the central focus, this ensured stable results without a warning. "
   ]
  },
  {
   "cell_type": "markdown",
   "id": "294d6b72",
   "metadata": {},
   "source": [
    "##### **K-Nearest Neighbors**"
   ]
  },
  {
   "cell_type": "code",
   "execution_count": 81,
   "id": "44a57e27",
   "metadata": {},
   "outputs": [
    {
     "name": "stdout",
     "output_type": "stream",
     "text": [
      "\n",
      "KNN Classification Report:\n",
      "-----------------------------------------------------\n",
      "              precision    recall  f1-score   support\n",
      "\n",
      "        High       0.73      0.91      0.81       306\n",
      "         Low       0.32      0.13      0.19        53\n",
      "      Medium       0.21      0.09      0.12        79\n",
      "\n",
      "    accuracy                           0.67       438\n",
      "   macro avg       0.42      0.38      0.37       438\n",
      "weighted avg       0.59      0.67      0.61       438\n",
      "\n",
      "-----------------------------------------------------\n"
     ]
    }
   ],
   "source": [
    "# KNN Classifier. \n",
    "knn = KNeighborsClassifier(n_neighbors=5)\n",
    "knn.fit(X_train, y_train)\n",
    "y_pred_knn = knn.predict(X_test)\n",
    "\n",
    "print(\"\\nKNN Classification Report:\")\n",
    "print(\"-----------------------------------------------------\")\n",
    "print(classification_report(y_test, y_pred_knn))\n",
    "print(\"-----------------------------------------------------\")"
   ]
  },
  {
   "cell_type": "markdown",
   "id": "e9d9dd90",
   "metadata": {},
   "source": [
    "- While it achieves strong recall on the *High* class, precision and recall are very poor on the minority classes.\n",
    "- Overall accuracy (0.67) looks decent, but the low macro F1 (0.37) shows that it fails to generalize across classes, relying heavily on the dominant class."
   ]
  },
  {
   "cell_type": "markdown",
   "id": "12ef9dc7",
   "metadata": {},
   "source": [
    "# Conclusion\n",
    "\n",
    "The goal of this project was to analyze whether structured attributes have predictive power when predicting game reviews using Steam sales data. Through machine learning analysis, we've determined that these variables *do* carry, although limited, predictive weight.\n",
    "\n",
    "**Key Findings:** Random Forest models achieved meaningful predictive performance:\n",
    "- Unbalanced Model: 72% accuracy with strong recall on majority class (*High* reviews: 96%).\n",
    "- Balanced Model: 60% accuracy with more equitable performance across all classes.\n",
    "- Macro F1 scores: 0.44 (unbalanced) vs 0.46 (balanced), showing balanced model's superior class generalization.\n",
    "- Comparators: Logistic Regression and KNN confirmed the pattern, both leaned on the majority class and underperformed RF on macro F1.\n",
    "\n",
    "**Feature Interpretability:**\n",
    "- Log Reviews: (32.2% → 28.1% importance) - Player engagement is the strongest predictor.\n",
    "- Log Price: (19.4% → 22.0% importance) - Pricing strategy significantly impacts reviews.\n",
    "- Discount: (15.7% → 17.7% importance) - Sales promotions affect, or reflect, player sentiment.\n",
    "- Month/Year: (14.3% / 12.8% importance) - Release patterns do matter.\n",
    "\n",
    "**Human Predictability:** Moderate performance suggests human sentiment has both predictable and unpredictable elements:\n",
    "- Predictable aspects: Engagement metrics, pricing, and temporal factors show clear patterns.\n",
    "- Unpredictable aspects: The remaining 28-40% error suggests factors like game quality, genre preferences, marketing effectiveness, and individual taste variations.\n",
    "\n",
    "**Limitations & Next Steps:**\n",
    "\n",
    "- Minority classes remain hard; rely on macro/weighted F1 and confusion matrices, not accuracy alone.\n",
    "- Add more features (genre, developer reputation, text reviews).\n",
    "- Create visuals for alternative models, and explore them further. \n",
    "\n",
    "**Refrences**\n",
    "- Dataset on Kaggle (updated weekly): https://www.kaggle.com/datasets/benjaminlundkvist/steam-sales-historical-dataset.\n",
    "- Steam store: https://store.steampowered.com/\n",
    "- SMOTE: https://imbalanced-learn.org/stable/references/generated/imblearn.over_sampling.SMOTE.html\n",
    "- matplotlib bar_label: https://matplotlib.org/stable/api/_as_gen/matplotlib.pyplot.bar_label.html\n"
   ]
  }
 ],
 "metadata": {
  "kernelspec": {
   "display_name": "Python 3",
   "language": "python",
   "name": "python3"
  },
  "language_info": {
   "codemirror_mode": {
    "name": "ipython",
    "version": 3
   },
   "file_extension": ".py",
   "mimetype": "text/x-python",
   "name": "python",
   "nbconvert_exporter": "python",
   "pygments_lexer": "ipython3",
   "version": "3.11.9"
  }
 },
 "nbformat": 4,
 "nbformat_minor": 5
}
